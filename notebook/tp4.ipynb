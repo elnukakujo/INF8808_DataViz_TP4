{
 "cells": [
  {
   "cell_type": "markdown",
   "metadata": {},
   "source": [
    "# TP4 | INF8808\n",
    "\n",
    "In this notebook, we will start by creating a simple app to help explore our data. This step is important in conceiving data visualizations. It helps to determine which type of data visualization is appropriate for our data set, as well as which features we'd like to include. \n",
    "\n",
    "In the rest of this notebook, you will have to complete some cells to prepare for the implementation of an animated bubble chart in the next steps. \n",
    "\n",
    "To begin, take a look at the following cells, where we complete the necessary imports and load the data.\n",
    "\n"
   ]
  },
  {
   "cell_type": "code",
   "execution_count": 1,
   "metadata": {},
   "outputs": [],
   "source": [
    "import pandas as pd\n",
    "import json"
   ]
  },
  {
   "cell_type": "code",
   "execution_count": 2,
   "metadata": {},
   "outputs": [],
   "source": [
    "with open('../src/assets/data/countriesData.json') as data_file:    \n",
    "    data = json.load(data_file)  \n",
    "\n",
    "df_2000 = pd.json_normalize(data, '2000')\n",
    "df_2015 = pd.json_normalize(data, '2015')"
   ]
  },
  {
   "cell_type": "code",
   "execution_count": 3,
   "metadata": {},
   "outputs": [
    {
     "name": "stderr",
     "output_type": "stream",
     "text": [
      "/tmp/ipykernel_8737/3203507159.py:3: UserWarning: \n",
      "The dash_html_components package is deprecated. Please replace\n",
      "`import dash_html_components as html` with `from dash import html`\n",
      "  import dash_html_components as html\n",
      "/tmp/ipykernel_8737/3203507159.py:4: UserWarning: \n",
      "The dash_core_components package is deprecated. Please replace\n",
      "`import dash_core_components as dcc` with `from dash import dcc`\n",
      "  import dash_core_components as dcc\n"
     ]
    }
   ],
   "source": [
    "from jupyter_dash import JupyterDash\n",
    "import dash\n",
    "import dash_html_components as html\n",
    "import dash_core_components as dcc\n",
    "\n",
    "import plotly.express as px"
   ]
  },
  {
   "cell_type": "code",
   "execution_count": 4,
   "metadata": {},
   "outputs": [],
   "source": [
    "external_stylesheets=['https://codepen.io/chriddyp/pen/bWLwgP.css']"
   ]
  },
  {
   "cell_type": "code",
   "execution_count": 5,
   "metadata": {},
   "outputs": [],
   "source": [
    "app = JupyterDash(__name__, external_stylesheets=external_stylesheets)"
   ]
  },
  {
   "cell_type": "code",
   "execution_count": 6,
   "metadata": {},
   "outputs": [
    {
     "data": {
      "text/html": [
       "<div>\n",
       "<style scoped>\n",
       "    .dataframe tbody tr th:only-of-type {\n",
       "        vertical-align: middle;\n",
       "    }\n",
       "\n",
       "    .dataframe tbody tr th {\n",
       "        vertical-align: top;\n",
       "    }\n",
       "\n",
       "    .dataframe thead th {\n",
       "        text-align: right;\n",
       "    }\n",
       "</style>\n",
       "<table border=\"1\" class=\"dataframe\">\n",
       "  <thead>\n",
       "    <tr style=\"text-align: right;\">\n",
       "      <th></th>\n",
       "      <th>Country Name</th>\n",
       "      <th>GDP</th>\n",
       "      <th>CO2</th>\n",
       "      <th>Population</th>\n",
       "      <th>Continent</th>\n",
       "    </tr>\n",
       "  </thead>\n",
       "  <tbody>\n",
       "    <tr>\n",
       "      <th>0</th>\n",
       "      <td>Algeria</td>\n",
       "      <td>1764.973830</td>\n",
       "      <td>2.830380</td>\n",
       "      <td>31042235</td>\n",
       "      <td>Africa</td>\n",
       "    </tr>\n",
       "    <tr>\n",
       "      <th>1</th>\n",
       "      <td>Andorra</td>\n",
       "      <td>21854.246803</td>\n",
       "      <td>8.019284</td>\n",
       "      <td>65390</td>\n",
       "      <td>Europe</td>\n",
       "    </tr>\n",
       "    <tr>\n",
       "      <th>2</th>\n",
       "      <td>Angola</td>\n",
       "      <td>556.836318</td>\n",
       "      <td>0.581961</td>\n",
       "      <td>16395473</td>\n",
       "      <td>Africa</td>\n",
       "    </tr>\n",
       "    <tr>\n",
       "      <th>3</th>\n",
       "      <td>Albania</td>\n",
       "      <td>1126.683318</td>\n",
       "      <td>0.978175</td>\n",
       "      <td>3089027</td>\n",
       "      <td>Europe</td>\n",
       "    </tr>\n",
       "    <tr>\n",
       "      <th>4</th>\n",
       "      <td>Antigua and Barbuda</td>\n",
       "      <td>10920.842688</td>\n",
       "      <td>4.534545</td>\n",
       "      <td>76016</td>\n",
       "      <td>North America</td>\n",
       "    </tr>\n",
       "    <tr>\n",
       "      <th>...</th>\n",
       "      <td>...</td>\n",
       "      <td>...</td>\n",
       "      <td>...</td>\n",
       "      <td>...</td>\n",
       "      <td>...</td>\n",
       "    </tr>\n",
       "    <tr>\n",
       "      <th>169</th>\n",
       "      <td>Vanuatu</td>\n",
       "      <td>1470.572265</td>\n",
       "      <td>0.455966</td>\n",
       "      <td>184972</td>\n",
       "      <td>Oceania</td>\n",
       "    </tr>\n",
       "    <tr>\n",
       "      <th>170</th>\n",
       "      <td>Vietnam</td>\n",
       "      <td>390.093326</td>\n",
       "      <td>0.671309</td>\n",
       "      <td>79910412</td>\n",
       "      <td>Asia</td>\n",
       "    </tr>\n",
       "    <tr>\n",
       "      <th>171</th>\n",
       "      <td>Yemen</td>\n",
       "      <td>554.448633</td>\n",
       "      <td>0.841075</td>\n",
       "      <td>17409072</td>\n",
       "      <td>Asia</td>\n",
       "    </tr>\n",
       "    <tr>\n",
       "      <th>172</th>\n",
       "      <td>Zambia</td>\n",
       "      <td>345.689554</td>\n",
       "      <td>0.174972</td>\n",
       "      <td>10415944</td>\n",
       "      <td>Africa</td>\n",
       "    </tr>\n",
       "    <tr>\n",
       "      <th>173</th>\n",
       "      <td>Zimbabwe</td>\n",
       "      <td>563.057741</td>\n",
       "      <td>1.171874</td>\n",
       "      <td>11881477</td>\n",
       "      <td>Africa</td>\n",
       "    </tr>\n",
       "  </tbody>\n",
       "</table>\n",
       "<p>174 rows × 5 columns</p>\n",
       "</div>"
      ],
      "text/plain": [
       "            Country Name           GDP       CO2  Population      Continent\n",
       "0                Algeria   1764.973830  2.830380    31042235         Africa\n",
       "1                Andorra  21854.246803  8.019284       65390         Europe\n",
       "2                 Angola    556.836318  0.581961    16395473         Africa\n",
       "3                Albania   1126.683318  0.978175     3089027         Europe\n",
       "4    Antigua and Barbuda  10920.842688  4.534545       76016  North America\n",
       "..                   ...           ...       ...         ...            ...\n",
       "169              Vanuatu   1470.572265  0.455966      184972        Oceania\n",
       "170              Vietnam    390.093326  0.671309    79910412           Asia\n",
       "171                Yemen    554.448633  0.841075    17409072           Asia\n",
       "172               Zambia    345.689554  0.174972    10415944         Africa\n",
       "173             Zimbabwe    563.057741  1.171874    11881477         Africa\n",
       "\n",
       "[174 rows x 5 columns]"
      ]
     },
     "execution_count": 6,
     "metadata": {},
     "output_type": "execute_result"
    }
   ],
   "source": [
    "df_2000"
   ]
  },
  {
   "cell_type": "code",
   "execution_count": 7,
   "metadata": {},
   "outputs": [
    {
     "data": {
      "text/html": [
       "<div>\n",
       "<style scoped>\n",
       "    .dataframe tbody tr th:only-of-type {\n",
       "        vertical-align: middle;\n",
       "    }\n",
       "\n",
       "    .dataframe tbody tr th {\n",
       "        vertical-align: top;\n",
       "    }\n",
       "\n",
       "    .dataframe thead th {\n",
       "        text-align: right;\n",
       "    }\n",
       "</style>\n",
       "<table border=\"1\" class=\"dataframe\">\n",
       "  <thead>\n",
       "    <tr style=\"text-align: right;\">\n",
       "      <th></th>\n",
       "      <th>Country Name</th>\n",
       "      <th>GDP</th>\n",
       "      <th>CO2</th>\n",
       "      <th>Population</th>\n",
       "      <th>Continent</th>\n",
       "    </tr>\n",
       "  </thead>\n",
       "  <tbody>\n",
       "    <tr>\n",
       "      <th>0</th>\n",
       "      <td>Albania</td>\n",
       "      <td>3952.801215</td>\n",
       "      <td>1.602648</td>\n",
       "      <td>2880703</td>\n",
       "      <td>Europe</td>\n",
       "    </tr>\n",
       "    <tr>\n",
       "      <th>1</th>\n",
       "      <td>Algeria</td>\n",
       "      <td>4177.892515</td>\n",
       "      <td>3.854557</td>\n",
       "      <td>39728025</td>\n",
       "      <td>Africa</td>\n",
       "    </tr>\n",
       "    <tr>\n",
       "      <th>2</th>\n",
       "      <td>Andorra</td>\n",
       "      <td>35762.523074</td>\n",
       "      <td>5.969786</td>\n",
       "      <td>78011</td>\n",
       "      <td>Europe</td>\n",
       "    </tr>\n",
       "    <tr>\n",
       "      <th>3</th>\n",
       "      <td>Angola</td>\n",
       "      <td>4166.979684</td>\n",
       "      <td>1.240245</td>\n",
       "      <td>27884381</td>\n",
       "      <td>Africa</td>\n",
       "    </tr>\n",
       "    <tr>\n",
       "      <th>4</th>\n",
       "      <td>Antigua and Barbuda</td>\n",
       "      <td>14286.093160</td>\n",
       "      <td>5.839546</td>\n",
       "      <td>93566</td>\n",
       "      <td>North America</td>\n",
       "    </tr>\n",
       "    <tr>\n",
       "      <th>...</th>\n",
       "      <td>...</td>\n",
       "      <td>...</td>\n",
       "      <td>...</td>\n",
       "      <td>...</td>\n",
       "      <td>...</td>\n",
       "    </tr>\n",
       "    <tr>\n",
       "      <th>169</th>\n",
       "      <td>Vanuatu</td>\n",
       "      <td>2801.939848</td>\n",
       "      <td>0.486896</td>\n",
       "      <td>271130</td>\n",
       "      <td>Oceania</td>\n",
       "    </tr>\n",
       "    <tr>\n",
       "      <th>170</th>\n",
       "      <td>Vietnam</td>\n",
       "      <td>2085.101484</td>\n",
       "      <td>2.032108</td>\n",
       "      <td>92677076</td>\n",
       "      <td>Asia</td>\n",
       "    </tr>\n",
       "    <tr>\n",
       "      <th>171</th>\n",
       "      <td>Yemen</td>\n",
       "      <td>1395.439633</td>\n",
       "      <td>0.497091</td>\n",
       "      <td>26497889</td>\n",
       "      <td>Asia</td>\n",
       "    </tr>\n",
       "    <tr>\n",
       "      <th>172</th>\n",
       "      <td>Zambia</td>\n",
       "      <td>1337.796110</td>\n",
       "      <td>0.285428</td>\n",
       "      <td>15879361</td>\n",
       "      <td>Africa</td>\n",
       "    </tr>\n",
       "    <tr>\n",
       "      <th>173</th>\n",
       "      <td>Zimbabwe</td>\n",
       "      <td>1445.071062</td>\n",
       "      <td>0.891624</td>\n",
       "      <td>13814629</td>\n",
       "      <td>Africa</td>\n",
       "    </tr>\n",
       "  </tbody>\n",
       "</table>\n",
       "<p>174 rows × 5 columns</p>\n",
       "</div>"
      ],
      "text/plain": [
       "            Country Name           GDP       CO2  Population      Continent\n",
       "0                Albania   3952.801215  1.602648     2880703         Europe\n",
       "1                Algeria   4177.892515  3.854557    39728025         Africa\n",
       "2                Andorra  35762.523074  5.969786       78011         Europe\n",
       "3                 Angola   4166.979684  1.240245    27884381         Africa\n",
       "4    Antigua and Barbuda  14286.093160  5.839546       93566  North America\n",
       "..                   ...           ...       ...         ...            ...\n",
       "169              Vanuatu   2801.939848  0.486896      271130        Oceania\n",
       "170              Vietnam   2085.101484  2.032108    92677076           Asia\n",
       "171                Yemen   1395.439633  0.497091    26497889           Asia\n",
       "172               Zambia   1337.796110  0.285428    15879361         Africa\n",
       "173             Zimbabwe   1445.071062  0.891624    13814629         Africa\n",
       "\n",
       "[174 rows x 5 columns]"
      ]
     },
     "execution_count": 7,
     "metadata": {},
     "output_type": "execute_result"
    }
   ],
   "source": [
    "df_2015"
   ]
  },
  {
   "cell_type": "markdown",
   "metadata": {},
   "source": [
    "# Question 1 \n",
    "\n",
    "You notice that the tables `df_2000` and `df_2015` have columns `GDP` and `CO2`, which you wish to include in your visualization. \n",
    "\n",
    "These columns contain numbers with many decimal places, but you are only planning on displaying numbers up to two decimal places in your visualization. \n",
    "\n",
    "Round the numbers in these dataframes so they only contain numbers up to two decimal places."
   ]
  },
  {
   "cell_type": "code",
   "execution_count": 8,
   "metadata": {},
   "outputs": [],
   "source": [
    "# TODO : Round the values\n",
    "df_2000[\"GDP\"]=df_2000.GDP.round(2)\n",
    "df_2000[\"CO2\"]=df_2015.CO2.round(2)\n",
    "df_2015[\"GDP\"]=df_2000.GDP.round(2)\n",
    "df_2015[\"CO2\"]=df_2015.CO2.round(2) "
   ]
  },
  {
   "cell_type": "code",
   "execution_count": 9,
   "metadata": {},
   "outputs": [
    {
     "data": {
      "text/html": [
       "<div>\n",
       "<style scoped>\n",
       "    .dataframe tbody tr th:only-of-type {\n",
       "        vertical-align: middle;\n",
       "    }\n",
       "\n",
       "    .dataframe tbody tr th {\n",
       "        vertical-align: top;\n",
       "    }\n",
       "\n",
       "    .dataframe thead th {\n",
       "        text-align: right;\n",
       "    }\n",
       "</style>\n",
       "<table border=\"1\" class=\"dataframe\">\n",
       "  <thead>\n",
       "    <tr style=\"text-align: right;\">\n",
       "      <th></th>\n",
       "      <th>Country Name</th>\n",
       "      <th>GDP</th>\n",
       "      <th>CO2</th>\n",
       "      <th>Population</th>\n",
       "      <th>Continent</th>\n",
       "    </tr>\n",
       "  </thead>\n",
       "  <tbody>\n",
       "    <tr>\n",
       "      <th>0</th>\n",
       "      <td>Algeria</td>\n",
       "      <td>1764.97</td>\n",
       "      <td>1.60</td>\n",
       "      <td>31042235</td>\n",
       "      <td>Africa</td>\n",
       "    </tr>\n",
       "    <tr>\n",
       "      <th>1</th>\n",
       "      <td>Andorra</td>\n",
       "      <td>21854.25</td>\n",
       "      <td>3.85</td>\n",
       "      <td>65390</td>\n",
       "      <td>Europe</td>\n",
       "    </tr>\n",
       "    <tr>\n",
       "      <th>2</th>\n",
       "      <td>Angola</td>\n",
       "      <td>556.84</td>\n",
       "      <td>5.97</td>\n",
       "      <td>16395473</td>\n",
       "      <td>Africa</td>\n",
       "    </tr>\n",
       "    <tr>\n",
       "      <th>3</th>\n",
       "      <td>Albania</td>\n",
       "      <td>1126.68</td>\n",
       "      <td>1.24</td>\n",
       "      <td>3089027</td>\n",
       "      <td>Europe</td>\n",
       "    </tr>\n",
       "    <tr>\n",
       "      <th>4</th>\n",
       "      <td>Antigua and Barbuda</td>\n",
       "      <td>10920.84</td>\n",
       "      <td>5.84</td>\n",
       "      <td>76016</td>\n",
       "      <td>North America</td>\n",
       "    </tr>\n",
       "    <tr>\n",
       "      <th>...</th>\n",
       "      <td>...</td>\n",
       "      <td>...</td>\n",
       "      <td>...</td>\n",
       "      <td>...</td>\n",
       "      <td>...</td>\n",
       "    </tr>\n",
       "    <tr>\n",
       "      <th>169</th>\n",
       "      <td>Vanuatu</td>\n",
       "      <td>1470.57</td>\n",
       "      <td>0.49</td>\n",
       "      <td>184972</td>\n",
       "      <td>Oceania</td>\n",
       "    </tr>\n",
       "    <tr>\n",
       "      <th>170</th>\n",
       "      <td>Vietnam</td>\n",
       "      <td>390.09</td>\n",
       "      <td>2.03</td>\n",
       "      <td>79910412</td>\n",
       "      <td>Asia</td>\n",
       "    </tr>\n",
       "    <tr>\n",
       "      <th>171</th>\n",
       "      <td>Yemen</td>\n",
       "      <td>554.45</td>\n",
       "      <td>0.50</td>\n",
       "      <td>17409072</td>\n",
       "      <td>Asia</td>\n",
       "    </tr>\n",
       "    <tr>\n",
       "      <th>172</th>\n",
       "      <td>Zambia</td>\n",
       "      <td>345.69</td>\n",
       "      <td>0.29</td>\n",
       "      <td>10415944</td>\n",
       "      <td>Africa</td>\n",
       "    </tr>\n",
       "    <tr>\n",
       "      <th>173</th>\n",
       "      <td>Zimbabwe</td>\n",
       "      <td>563.06</td>\n",
       "      <td>0.89</td>\n",
       "      <td>11881477</td>\n",
       "      <td>Africa</td>\n",
       "    </tr>\n",
       "  </tbody>\n",
       "</table>\n",
       "<p>174 rows × 5 columns</p>\n",
       "</div>"
      ],
      "text/plain": [
       "            Country Name       GDP   CO2  Population      Continent\n",
       "0                Algeria   1764.97  1.60    31042235         Africa\n",
       "1                Andorra  21854.25  3.85       65390         Europe\n",
       "2                 Angola    556.84  5.97    16395473         Africa\n",
       "3                Albania   1126.68  1.24     3089027         Europe\n",
       "4    Antigua and Barbuda  10920.84  5.84       76016  North America\n",
       "..                   ...       ...   ...         ...            ...\n",
       "169              Vanuatu   1470.57  0.49      184972        Oceania\n",
       "170              Vietnam    390.09  2.03    79910412           Asia\n",
       "171                Yemen    554.45  0.50    17409072           Asia\n",
       "172               Zambia    345.69  0.29    10415944         Africa\n",
       "173             Zimbabwe    563.06  0.89    11881477         Africa\n",
       "\n",
       "[174 rows x 5 columns]"
      ]
     },
     "execution_count": 9,
     "metadata": {},
     "output_type": "execute_result"
    }
   ],
   "source": [
    "# Use this cell to check your answer\n",
    "df_2000"
   ]
  },
  {
   "cell_type": "code",
   "execution_count": 10,
   "metadata": {},
   "outputs": [
    {
     "data": {
      "text/html": [
       "<div>\n",
       "<style scoped>\n",
       "    .dataframe tbody tr th:only-of-type {\n",
       "        vertical-align: middle;\n",
       "    }\n",
       "\n",
       "    .dataframe tbody tr th {\n",
       "        vertical-align: top;\n",
       "    }\n",
       "\n",
       "    .dataframe thead th {\n",
       "        text-align: right;\n",
       "    }\n",
       "</style>\n",
       "<table border=\"1\" class=\"dataframe\">\n",
       "  <thead>\n",
       "    <tr style=\"text-align: right;\">\n",
       "      <th></th>\n",
       "      <th>Country Name</th>\n",
       "      <th>GDP</th>\n",
       "      <th>CO2</th>\n",
       "      <th>Population</th>\n",
       "      <th>Continent</th>\n",
       "    </tr>\n",
       "  </thead>\n",
       "  <tbody>\n",
       "    <tr>\n",
       "      <th>0</th>\n",
       "      <td>Albania</td>\n",
       "      <td>1764.97</td>\n",
       "      <td>1.60</td>\n",
       "      <td>2880703</td>\n",
       "      <td>Europe</td>\n",
       "    </tr>\n",
       "    <tr>\n",
       "      <th>1</th>\n",
       "      <td>Algeria</td>\n",
       "      <td>21854.25</td>\n",
       "      <td>3.85</td>\n",
       "      <td>39728025</td>\n",
       "      <td>Africa</td>\n",
       "    </tr>\n",
       "    <tr>\n",
       "      <th>2</th>\n",
       "      <td>Andorra</td>\n",
       "      <td>556.84</td>\n",
       "      <td>5.97</td>\n",
       "      <td>78011</td>\n",
       "      <td>Europe</td>\n",
       "    </tr>\n",
       "    <tr>\n",
       "      <th>3</th>\n",
       "      <td>Angola</td>\n",
       "      <td>1126.68</td>\n",
       "      <td>1.24</td>\n",
       "      <td>27884381</td>\n",
       "      <td>Africa</td>\n",
       "    </tr>\n",
       "    <tr>\n",
       "      <th>4</th>\n",
       "      <td>Antigua and Barbuda</td>\n",
       "      <td>10920.84</td>\n",
       "      <td>5.84</td>\n",
       "      <td>93566</td>\n",
       "      <td>North America</td>\n",
       "    </tr>\n",
       "    <tr>\n",
       "      <th>...</th>\n",
       "      <td>...</td>\n",
       "      <td>...</td>\n",
       "      <td>...</td>\n",
       "      <td>...</td>\n",
       "      <td>...</td>\n",
       "    </tr>\n",
       "    <tr>\n",
       "      <th>169</th>\n",
       "      <td>Vanuatu</td>\n",
       "      <td>1470.57</td>\n",
       "      <td>0.49</td>\n",
       "      <td>271130</td>\n",
       "      <td>Oceania</td>\n",
       "    </tr>\n",
       "    <tr>\n",
       "      <th>170</th>\n",
       "      <td>Vietnam</td>\n",
       "      <td>390.09</td>\n",
       "      <td>2.03</td>\n",
       "      <td>92677076</td>\n",
       "      <td>Asia</td>\n",
       "    </tr>\n",
       "    <tr>\n",
       "      <th>171</th>\n",
       "      <td>Yemen</td>\n",
       "      <td>554.45</td>\n",
       "      <td>0.50</td>\n",
       "      <td>26497889</td>\n",
       "      <td>Asia</td>\n",
       "    </tr>\n",
       "    <tr>\n",
       "      <th>172</th>\n",
       "      <td>Zambia</td>\n",
       "      <td>345.69</td>\n",
       "      <td>0.29</td>\n",
       "      <td>15879361</td>\n",
       "      <td>Africa</td>\n",
       "    </tr>\n",
       "    <tr>\n",
       "      <th>173</th>\n",
       "      <td>Zimbabwe</td>\n",
       "      <td>563.06</td>\n",
       "      <td>0.89</td>\n",
       "      <td>13814629</td>\n",
       "      <td>Africa</td>\n",
       "    </tr>\n",
       "  </tbody>\n",
       "</table>\n",
       "<p>174 rows × 5 columns</p>\n",
       "</div>"
      ],
      "text/plain": [
       "            Country Name       GDP   CO2  Population      Continent\n",
       "0                Albania   1764.97  1.60     2880703         Europe\n",
       "1                Algeria  21854.25  3.85    39728025         Africa\n",
       "2                Andorra    556.84  5.97       78011         Europe\n",
       "3                 Angola   1126.68  1.24    27884381         Africa\n",
       "4    Antigua and Barbuda  10920.84  5.84       93566  North America\n",
       "..                   ...       ...   ...         ...            ...\n",
       "169              Vanuatu   1470.57  0.49      271130        Oceania\n",
       "170              Vietnam    390.09  2.03    92677076           Asia\n",
       "171                Yemen    554.45  0.50    26497889           Asia\n",
       "172               Zambia    345.69  0.29    15879361         Africa\n",
       "173             Zimbabwe    563.06  0.89    13814629         Africa\n",
       "\n",
       "[174 rows x 5 columns]"
      ]
     },
     "execution_count": 10,
     "metadata": {},
     "output_type": "execute_result"
    }
   ],
   "source": [
    "# Use this cell to check your answer\n",
    "df_2015"
   ]
  },
  {
   "cell_type": "markdown",
   "metadata": {},
   "source": [
    "# Question 2\n",
    "\n",
    "Given the data you have, you decide to create a simple scatter plot for each dataframe.\n",
    "\n",
    "In the next cells, fill the functions to accomplish this task. \n",
    "\n",
    "### 2.1\n",
    "\n",
    "First, fill the `get_scatter` function, which returns a scatter plot figure for the given data frame. Its x axis is GDP and its y axis is CO2. Its `hover_name` property is represented by the country name. The title of the scatter plot is passed as argument. The axes should be represented as linearly scaled.\n",
    "\n",
    "### 2.2\n",
    "\n",
    "Second, fill the `get_range` function, which will help to more easily compare the two scatter plots. We want both scatter plots to have the same range for their x and y axes, and to be able to see all the points in each scatter plot. Thus, for the given column, the function should return an array containing the minimum and maximum across the two dataframes. \n",
    "\n"
   ]
  },
  {
   "cell_type": "code",
   "execution_count": 11,
   "metadata": {},
   "outputs": [],
   "source": [
    "def get_scatter(df, title):\n",
    "    # TODO : Construct the scatter plot\n",
    "    return px.scatter(df,x=df.GDP,y=df.CO2, title=title, hover_name=df[\"Country Name\"])"
   ]
  },
  {
   "cell_type": "code",
   "execution_count": 12,
   "metadata": {},
   "outputs": [],
   "source": [
    "def get_range(col, df1, df2):\n",
    "    # TODO : Calculate the range\n",
    "    return [min(df1[col].min(),\n",
    "                df2[col].min()),\n",
    "            max(df1[col].max(),\n",
    "                df2[col].max())]"
   ]
  },
  {
   "cell_type": "markdown",
   "metadata": {},
   "source": [
    "Run these next three cells to check your answer. You should see your two scatter plots side by side."
   ]
  },
  {
   "cell_type": "code",
   "execution_count": 13,
   "metadata": {},
   "outputs": [],
   "source": [
    "fig_2000 = get_scatter(df_2000, '2000')\n",
    "fig_2015 = get_scatter(df_2015, '2015')\n",
    "\n",
    "fig_2000.update_layout(xaxis=dict(range=get_range('GDP', df_2000, df_2015)))\n",
    "fig_2000.update_layout(yaxis=dict(range=get_range('CO2', df_2000, df_2015)))\n",
    "fig_2000.update_layout(dragmode=False)\n",
    "\n",
    "\n",
    "fig_2015.update_layout(xaxis=dict(range=get_range('GDP', df_2000, df_2015)))\n",
    "fig_2015.update_layout(yaxis=dict(range=get_range('CO2', df_2000, df_2015)))\n",
    "fig_2015.update_layout(dragmode=False);\n"
   ]
  },
  {
   "cell_type": "code",
   "execution_count": 14,
   "metadata": {},
   "outputs": [],
   "source": [
    "config=dict(\n",
    "                scrollZoom=False,\n",
    "                showTips=False,\n",
    "                showAxisDragHandles=False,\n",
    "                doubleClick=False,\n",
    "                displayModeBar=False\n",
    "            )\n",
    "\n",
    "app.layout = html.Div(children=[\n",
    "        html.Div(className='row', children=[dcc.Graph(id='fig-2000', figure=fig_2000, className='six columns', config=config), dcc.Graph(id='fig-2015', figure=fig_2015, className='six columns', config=config)]),\n",
    "        html.Div(style = {'width': '100%', 'display': 'flex', 'alignItems': 'center', 'justifyContent': 'center', 'flexDirection' : 'column'}, children=[\n",
    "            html.H4('Hover over markers for more information', id='country'),\n",
    "            html.Table(children=[\n",
    "                html.Thead(html.Tr(children=[html.Th(), html.Th('GDP per capita ($ USD)'), html.Th('CO2 emissions per capita (metric tonnes)')])),\n",
    "                html.Tbody(children=[\n",
    "                    html.Tr(children=[html.Th('2000'), html.Td(id='2000-gdp'), html.Td(id='2000-co2')]),\n",
    "                    html.Tr(children=[html.Th('2015'), html.Td(id='2015-gdp'), html.Td(id='2015-co2')])\n",
    "                ])\n",
    "            ])\n",
    "        ])\n",
    "    ])"
   ]
  },
  {
   "cell_type": "code",
   "execution_count": 15,
   "metadata": {},
   "outputs": [
    {
     "name": "stderr",
     "output_type": "stream",
     "text": [
      "\u001b[31m\u001b[1mWARNING: This is a development server. Do not use it in a production deployment. Use a production WSGI server instead.\u001b[0m\n",
      " * Running on http://127.0.0.1:8051\n",
      "\u001b[33mPress CTRL+C to quit\u001b[0m\n",
      "127.0.0.1 - - [27/May/2024 17:51:14] \"GET /_alive_e1205e71-5304-4271-b7a3-c93a7da2c22b HTTP/1.1\" 200 -\n"
     ]
    },
    {
     "name": "stdout",
     "output_type": "stream",
     "text": [
      "Dash app running on http://127.0.0.1:8051/\n"
     ]
    },
    {
     "name": "stderr",
     "output_type": "stream",
     "text": [
      "127.0.0.1 - - [27/May/2024 17:51:17] \"GET / HTTP/1.1\" 200 -\n",
      "127.0.0.1 - - [27/May/2024 17:51:17] \"GET /_dash-component-suites/dash/deps/react@16.v2_6_2m1716568937.14.0.min.js HTTP/1.1\" 200 -\n",
      "127.0.0.1 - - [27/May/2024 17:51:17] \"GET /_dash-component-suites/dash/deps/react-dom@16.v2_6_2m1716568937.14.0.min.js HTTP/1.1\" 200 -\n",
      "127.0.0.1 - - [27/May/2024 17:51:17] \"GET /_dash-component-suites/dash/deps/prop-types@15.v2_6_2m1716568937.8.1.min.js HTTP/1.1\" 200 -\n",
      "127.0.0.1 - - [27/May/2024 17:51:17] \"GET /_dash-component-suites/dash/dash-renderer/build/dash_renderer.v2_6_2m1716568937.min.js HTTP/1.1\" 200 -\n",
      "127.0.0.1 - - [27/May/2024 17:51:18] \"GET /_dash-layout HTTP/1.1\" 200 -\n",
      "127.0.0.1 - - [27/May/2024 17:51:18] \"GET /_dash-dependencies HTTP/1.1\" 200 -\n",
      "127.0.0.1 - - [27/May/2024 17:51:18] \"GET /_favicon.ico?v=2.6.2 HTTP/1.1\" 200 -\n",
      "127.0.0.1 - - [27/May/2024 17:51:18] \"\u001b[36mGET /_dash-component-suites/dash/dcc/async-graph.js HTTP/1.1\u001b[0m\" 304 -\n",
      "127.0.0.1 - - [27/May/2024 17:51:19] \"\u001b[36mGET /_dash-component-suites/dash/dcc/async-plotlyjs.js HTTP/1.1\u001b[0m\" 304 -\n",
      "127.0.0.1 - - [27/May/2024 17:51:20] \"POST /_dash-update-component HTTP/1.1\" 200 -\n",
      "127.0.0.1 - - [27/May/2024 17:51:39] \"POST /_dash-update-component HTTP/1.1\" 200 -\n",
      "127.0.0.1 - - [27/May/2024 17:51:39] \"POST /_dash-update-component HTTP/1.1\" 200 -\n",
      "127.0.0.1 - - [27/May/2024 17:51:39] \"POST /_dash-update-component HTTP/1.1\" 200 -\n",
      "127.0.0.1 - - [27/May/2024 17:51:39] \"POST /_dash-update-component HTTP/1.1\" 200 -\n",
      "127.0.0.1 - - [27/May/2024 17:51:40] \"POST /_dash-update-component HTTP/1.1\" 200 -\n",
      "127.0.0.1 - - [27/May/2024 17:51:40] \"POST /_dash-update-component HTTP/1.1\" 200 -\n",
      "127.0.0.1 - - [27/May/2024 17:51:40] \"POST /_dash-update-component HTTP/1.1\" 200 -\n",
      "127.0.0.1 - - [27/May/2024 17:51:40] \"POST /_dash-update-component HTTP/1.1\" 200 -\n",
      "127.0.0.1 - - [27/May/2024 17:51:40] \"POST /_dash-update-component HTTP/1.1\" 200 -\n",
      "127.0.0.1 - - [27/May/2024 17:51:40] \"POST /_dash-update-component HTTP/1.1\" 200 -\n",
      "127.0.0.1 - - [27/May/2024 17:51:40] \"POST /_dash-update-component HTTP/1.1\" 200 -\n",
      "127.0.0.1 - - [27/May/2024 17:51:40] \"POST /_dash-update-component HTTP/1.1\" 200 -\n",
      "127.0.0.1 - - [27/May/2024 17:51:40] \"POST /_dash-update-component HTTP/1.1\" 200 -\n",
      "127.0.0.1 - - [27/May/2024 17:51:40] \"POST /_dash-update-component HTTP/1.1\" 200 -\n",
      "127.0.0.1 - - [27/May/2024 17:51:41] \"POST /_dash-update-component HTTP/1.1\" 200 -\n",
      "127.0.0.1 - - [27/May/2024 17:51:41] \"POST /_dash-update-component HTTP/1.1\" 200 -\n",
      "127.0.0.1 - - [27/May/2024 17:51:41] \"POST /_dash-update-component HTTP/1.1\" 200 -\n",
      "127.0.0.1 - - [27/May/2024 17:51:41] \"POST /_dash-update-component HTTP/1.1\" 200 -\n",
      "127.0.0.1 - - [27/May/2024 17:51:41] \"POST /_dash-update-component HTTP/1.1\" 200 -\n",
      "127.0.0.1 - - [27/May/2024 17:51:41] \"POST /_dash-update-component HTTP/1.1\" 200 -\n",
      "127.0.0.1 - - [27/May/2024 17:51:41] \"POST /_dash-update-component HTTP/1.1\" 200 -\n",
      "127.0.0.1 - - [27/May/2024 17:51:42] \"POST /_dash-update-component HTTP/1.1\" 200 -\n",
      "127.0.0.1 - - [27/May/2024 17:51:42] \"POST /_dash-update-component HTTP/1.1\" 200 -\n",
      "127.0.0.1 - - [27/May/2024 17:51:42] \"POST /_dash-update-component HTTP/1.1\" 200 -\n",
      "127.0.0.1 - - [27/May/2024 17:51:43] \"POST /_dash-update-component HTTP/1.1\" 200 -\n",
      "127.0.0.1 - - [27/May/2024 17:51:43] \"POST /_dash-update-component HTTP/1.1\" 200 -\n",
      "127.0.0.1 - - [27/May/2024 17:51:43] \"POST /_dash-update-component HTTP/1.1\" 200 -\n",
      "127.0.0.1 - - [27/May/2024 17:51:43] \"POST /_dash-update-component HTTP/1.1\" 200 -\n",
      "127.0.0.1 - - [27/May/2024 17:51:43] \"POST /_dash-update-component HTTP/1.1\" 200 -\n",
      "127.0.0.1 - - [27/May/2024 17:51:43] \"POST /_dash-update-component HTTP/1.1\" 200 -\n",
      "127.0.0.1 - - [27/May/2024 17:51:43] \"POST /_dash-update-component HTTP/1.1\" 200 -\n",
      "127.0.0.1 - - [27/May/2024 17:51:43] \"POST /_dash-update-component HTTP/1.1\" 200 -\n",
      "127.0.0.1 - - [27/May/2024 17:51:43] \"POST /_dash-update-component HTTP/1.1\" 200 -\n",
      "127.0.0.1 - - [27/May/2024 17:51:43] \"POST /_dash-update-component HTTP/1.1\" 200 -\n",
      "127.0.0.1 - - [27/May/2024 17:51:44] \"POST /_dash-update-component HTTP/1.1\" 200 -\n",
      "127.0.0.1 - - [27/May/2024 17:51:44] \"POST /_dash-update-component HTTP/1.1\" 200 -\n",
      "127.0.0.1 - - [27/May/2024 17:51:44] \"POST /_dash-update-component HTTP/1.1\" 200 -\n",
      "127.0.0.1 - - [27/May/2024 17:51:44] \"POST /_dash-update-component HTTP/1.1\" 200 -\n",
      "127.0.0.1 - - [27/May/2024 17:51:44] \"POST /_dash-update-component HTTP/1.1\" 200 -\n",
      "127.0.0.1 - - [27/May/2024 17:51:44] \"POST /_dash-update-component HTTP/1.1\" 200 -\n",
      "127.0.0.1 - - [27/May/2024 17:51:44] \"POST /_dash-update-component HTTP/1.1\" 200 -\n",
      "127.0.0.1 - - [27/May/2024 17:51:44] \"POST /_dash-update-component HTTP/1.1\" 200 -\n",
      "127.0.0.1 - - [27/May/2024 17:51:44] \"POST /_dash-update-component HTTP/1.1\" 200 -\n",
      "127.0.0.1 - - [27/May/2024 17:51:44] \"POST /_dash-update-component HTTP/1.1\" 200 -\n",
      "127.0.0.1 - - [27/May/2024 17:51:44] \"POST /_dash-update-component HTTP/1.1\" 200 -\n",
      "127.0.0.1 - - [27/May/2024 17:51:44] \"POST /_dash-update-component HTTP/1.1\" 200 -\n",
      "127.0.0.1 - - [27/May/2024 17:51:44] \"POST /_dash-update-component HTTP/1.1\" 200 -\n",
      "127.0.0.1 - - [27/May/2024 17:51:45] \"POST /_dash-update-component HTTP/1.1\" 200 -\n",
      "127.0.0.1 - - [27/May/2024 17:51:48] \"POST /_dash-update-component HTTP/1.1\" 200 -\n",
      "127.0.0.1 - - [27/May/2024 17:51:48] \"POST /_dash-update-component HTTP/1.1\" 200 -\n",
      "127.0.0.1 - - [27/May/2024 17:51:48] \"POST /_dash-update-component HTTP/1.1\" 200 -\n",
      "127.0.0.1 - - [27/May/2024 17:51:48] \"POST /_dash-update-component HTTP/1.1\" 200 -\n",
      "127.0.0.1 - - [27/May/2024 17:51:48] \"POST /_dash-update-component HTTP/1.1\" 200 -\n",
      "127.0.0.1 - - [27/May/2024 17:51:48] \"POST /_dash-update-component HTTP/1.1\" 200 -\n",
      "127.0.0.1 - - [27/May/2024 17:51:48] \"POST /_dash-update-component HTTP/1.1\" 200 -\n",
      "127.0.0.1 - - [27/May/2024 17:51:49] \"POST /_dash-update-component HTTP/1.1\" 200 -\n"
     ]
    }
   ],
   "source": [
    "# Use this cell to check your answer\n",
    "app.run_server(port=8051)"
   ]
  },
  {
   "cell_type": "markdown",
   "metadata": {},
   "source": [
    "# Question 3\n",
    "\n",
    "Now that you've seen both charts side-by-side, you've realized it might be interesting to model them with an animation. However, you'd like to be able to compare the data for countries more easily across the scatter plots.\n",
    "\n",
    "To do so, you will implement a callback function which is triggered whenever a point is hovered in one of the two scatter plots. The signature for this function is already started below. \n",
    "\n",
    "Complete the function so that whenever a point is hovered, the appropriate information is displayed in the table below the scatter plots. \n",
    "\n",
    "The title of the table should be the name of the country of the hovered point. Further, the table should contain the GDP and CO2 information for the years 2000 and 2015."
   ]
  },
  {
   "cell_type": "code",
   "execution_count": 15,
   "metadata": {},
   "outputs": [],
   "source": [
    "from dash.dependencies import Input, Output, State"
   ]
  },
  {
   "cell_type": "code",
   "execution_count": 1,
   "metadata": {},
   "outputs": [
    {
     "name": "stderr",
     "output_type": "stream",
     "text": [
      "/tmp/ipykernel_17192/2995643443.py:12: UserWarning: \n",
      "The dash_html_components package is deprecated. Please replace\n",
      "`import dash_html_components as html` with `from dash import html`\n",
      "  import dash_html_components as html\n",
      "/tmp/ipykernel_17192/2995643443.py:13: UserWarning: \n",
      "The dash_core_components package is deprecated. Please replace\n",
      "`import dash_core_components as dcc` with `from dash import dcc`\n",
      "  import dash_core_components as dcc\n",
      "\u001b[31m\u001b[1mWARNING: This is a development server. Do not use it in a production deployment. Use a production WSGI server instead.\u001b[0m\n",
      " * Running on http://127.0.0.1:8052\n",
      "\u001b[33mPress CTRL+C to quit\u001b[0m\n",
      "127.0.0.1 - - [03/Jun/2024 12:28:36] \"GET /_alive_1ec9c53b-4af5-4d78-a6f5-ddbef22d0b6e HTTP/1.1\" 200 -\n"
     ]
    },
    {
     "name": "stdout",
     "output_type": "stream",
     "text": [
      "Dash app running on http://127.0.0.1:8052/\n"
     ]
    },
    {
     "name": "stderr",
     "output_type": "stream",
     "text": [
      "127.0.0.1 - - [03/Jun/2024 12:28:37] \"GET / HTTP/1.1\" 200 -\n",
      "127.0.0.1 - - [03/Jun/2024 12:28:37] \"GET /_dash-dependencies HTTP/1.1\" 200 -\n",
      "127.0.0.1 - - [03/Jun/2024 12:28:37] \"GET /_dash-layout HTTP/1.1\" 200 -\n",
      "127.0.0.1 - - [03/Jun/2024 12:28:37] \"GET /_favicon.ico?v=2.6.2 HTTP/1.1\" 200 -\n",
      "127.0.0.1 - - [03/Jun/2024 12:28:37] \"\u001b[36mGET /_dash-component-suites/dash/dcc/async-graph.js HTTP/1.1\u001b[0m\" 304 -\n",
      "127.0.0.1 - - [03/Jun/2024 12:28:37] \"\u001b[36mGET /_dash-component-suites/dash/dcc/async-plotlyjs.js HTTP/1.1\u001b[0m\" 304 -\n",
      "127.0.0.1 - - [03/Jun/2024 12:28:38] \"\u001b[35m\u001b[1mPOST /_dash-update-component HTTP/1.1\u001b[0m\" 500 -\n",
      "127.0.0.1 - - [03/Jun/2024 12:28:40] \"\u001b[35m\u001b[1mPOST /_dash-update-component HTTP/1.1\u001b[0m\" 500 -\n",
      "127.0.0.1 - - [03/Jun/2024 12:28:42] \"POST /_dash-update-component HTTP/1.1\" 200 -\n",
      "127.0.0.1 - - [03/Jun/2024 12:28:42] \"POST /_dash-update-component HTTP/1.1\" 200 -\n"
     ]
    },
    {
     "name": "stdout",
     "output_type": "stream",
     "text": [
      "Macao\n",
      "Macao 15710.0869270706 3.814594817 75340.9869811152 3.4715862378\n",
      "Barbados\n",
      "Barbados 11268.2540559453 4.2407896433 16525.0732500596 4.3954031207\n"
     ]
    },
    {
     "name": "stderr",
     "output_type": "stream",
     "text": [
      "127.0.0.1 - - [03/Jun/2024 12:28:42] \"POST /_dash-update-component HTTP/1.1\" 200 -\n",
      "127.0.0.1 - - [03/Jun/2024 12:28:42] \"POST /_dash-update-component HTTP/1.1\" 200 -\n",
      "127.0.0.1 - - [03/Jun/2024 12:28:42] \"POST /_dash-update-component HTTP/1.1\" 200 -\n"
     ]
    },
    {
     "name": "stdout",
     "output_type": "stream",
     "text": [
      "Saint Kitts and Nevis\n",
      "Saint Kitts and Nevis 9836.1955676002 3.910446068 18029.3255386512 4.5834814366\n",
      "Argentina\n",
      "Argentina 7708.1009960541 3.854991948 13789.060424772 4.6640107479\n",
      "Mexico\n",
      "Mexico 7157.8144998573 4.0281446346 9605.9523510314 3.9631911282\n"
     ]
    },
    {
     "name": "stderr",
     "output_type": "stream",
     "text": [
      "127.0.0.1 - - [03/Jun/2024 12:28:43] \"POST /_dash-update-component HTTP/1.1\" 200 -\n",
      "127.0.0.1 - - [03/Jun/2024 12:28:43] \"POST /_dash-update-component HTTP/1.1\" 200 -\n"
     ]
    },
    {
     "name": "stdout",
     "output_type": "stream",
     "text": [
      "Croatia\n",
      "Croatia 4849.5342232548 4.3282119248 11782.8990799829 4.1183486837\n",
      "Jamaica\n",
      "Jamaica 3384.6948609055 3.8828994301 4907.5037197432 2.6192666881\n"
     ]
    },
    {
     "name": "stderr",
     "output_type": "stream",
     "text": [
      "127.0.0.1 - - [03/Jun/2024 12:28:43] \"POST /_dash-update-component HTTP/1.1\" 200 -\n",
      "127.0.0.1 - - [03/Jun/2024 12:28:43] \"POST /_dash-update-component HTTP/1.1\" 200 -\n",
      "127.0.0.1 - - [03/Jun/2024 12:28:43] \"POST /_dash-update-component HTTP/1.1\" 200 -\n",
      "127.0.0.1 - - [03/Jun/2024 12:28:43] \"POST /_dash-update-component HTTP/1.1\" 200 -\n"
     ]
    },
    {
     "name": "stdout",
     "output_type": "stream",
     "text": [
      "Argentina\n",
      "Argentina 7708.1009960541 3.854991948 13789.060424772 4.6640107479\n",
      "Portugal\n",
      "Portugal 11497.7534604525 6.0964033851 19242.3664710981 4.7555946684\n",
      "Macao\n",
      "Macao 15710.0869270706 3.814594817 75340.9869811152 3.4715862378\n",
      "Hong Kong\n",
      "Hong Kong 25756.6637783278 6.0674682671 42431.8882817277 5.8490543524\n"
     ]
    },
    {
     "name": "stderr",
     "output_type": "stream",
     "text": [
      "127.0.0.1 - - [03/Jun/2024 12:28:45] \"POST /_dash-update-component HTTP/1.1\" 200 -\n",
      "127.0.0.1 - - [03/Jun/2024 12:28:45] \"POST /_dash-update-component HTTP/1.1\" 200 -\n",
      "127.0.0.1 - - [03/Jun/2024 12:28:45] \"POST /_dash-update-component HTTP/1.1\" 200 -\n"
     ]
    },
    {
     "name": "stdout",
     "output_type": "stream",
     "text": [
      "Barbados\n",
      "Barbados 11268.2540559453 4.2407896433 16525.0732500596 4.3954031207\n",
      "Jamaica\n",
      "Jamaica 3384.6948609055 3.8828994301 4907.5037197432 2.6192666881\n",
      "Turkmenistan\n",
      "Turkmenistan 643.1747259925 8.3122173328 6432.6807019502 12.6990918887\n"
     ]
    },
    {
     "name": "stderr",
     "output_type": "stream",
     "text": [
      "127.0.0.1 - - [03/Jun/2024 12:28:45] \"POST /_dash-update-component HTTP/1.1\" 200 -\n",
      "127.0.0.1 - - [03/Jun/2024 12:28:45] \"POST /_dash-update-component HTTP/1.1\" 200 -\n",
      "127.0.0.1 - - [03/Jun/2024 12:28:45] \"POST /_dash-update-component HTTP/1.1\" 200 -\n"
     ]
    },
    {
     "name": "stdout",
     "output_type": "stream",
     "text": [
      "Kazakhstan\n",
      "Kazakhstan 1229.000958445 7.9348541814 10510.7718884148 13.8000541647\n",
      "Russian Federation\n",
      "Russian Federation 1771.5940590583 10.6270979157 9313.01362485 11.7852203799\n",
      "Estonia\n",
      "Estonia 4075.9706385107 10.6362516419 17522.230186252 12.4388527657\n"
     ]
    },
    {
     "name": "stderr",
     "output_type": "stream",
     "text": [
      "127.0.0.1 - - [03/Jun/2024 12:28:45] \"POST /_dash-update-component HTTP/1.1\" 200 -\n"
     ]
    },
    {
     "name": "stdout",
     "output_type": "stream",
     "text": [
      "Saudi Arabia\n",
      "Saudi Arabia 9171.3301448009 14.3698016385 20627.9327820675 20.4022516221\n"
     ]
    },
    {
     "name": "stderr",
     "output_type": "stream",
     "text": [
      "127.0.0.1 - - [03/Jun/2024 12:28:45] \"POST /_dash-update-component HTTP/1.1\" 200 -\n",
      "127.0.0.1 - - [03/Jun/2024 12:28:45] \"POST /_dash-update-component HTTP/1.1\" 200 -\n",
      "127.0.0.1 - - [03/Jun/2024 12:28:46] \"POST /_dash-update-component HTTP/1.1\" 200 -\n",
      "127.0.0.1 - - [03/Jun/2024 12:28:46] \"POST /_dash-update-component HTTP/1.1\" 200 -\n"
     ]
    },
    {
     "name": "stdout",
     "output_type": "stream",
     "text": [
      "Australia\n",
      "Australia 21679.2478424147 17.2006098261 56755.7217124249 15.3397835782\n",
      "Faroe Islands\n",
      "Faroe Islands 22653.3160466352 14.7511714989 52404.6593331379 12.6682483195\n",
      "Denmark\n",
      "Denmark 30743.5476816354 9.6131755542 53254.8560039631 5.4222855949\n",
      "Luxembourg\n",
      "Luxembourg 48735.995492187 18.8855122622 101376.496574339 16.2425843217\n"
     ]
    },
    {
     "name": "stderr",
     "output_type": "stream",
     "text": [
      "127.0.0.1 - - [03/Jun/2024 12:28:46] \"GET / HTTP/1.1\" 200 -\n",
      "127.0.0.1 - - [03/Jun/2024 12:28:47] \"GET /_dash-layout HTTP/1.1\" 200 -\n",
      "127.0.0.1 - - [03/Jun/2024 12:28:47] \"GET /_dash-dependencies HTTP/1.1\" 200 -\n",
      "127.0.0.1 - - [03/Jun/2024 12:28:47] \"GET /_favicon.ico?v=2.6.2 HTTP/1.1\" 200 -\n",
      "127.0.0.1 - - [03/Jun/2024 12:28:47] \"\u001b[36mGET /_dash-component-suites/dash/dcc/async-graph.js HTTP/1.1\u001b[0m\" 304 -\n",
      "127.0.0.1 - - [03/Jun/2024 12:28:47] \"\u001b[36mGET /_dash-component-suites/dash/dcc/async-plotlyjs.js HTTP/1.1\u001b[0m\" 304 -\n",
      "127.0.0.1 - - [03/Jun/2024 12:28:47] \"\u001b[35m\u001b[1mPOST /_dash-update-component HTTP/1.1\u001b[0m\" 500 -\n",
      "127.0.0.1 - - [03/Jun/2024 12:28:49] \"POST /_dash-update-component HTTP/1.1\" 200 -\n",
      "127.0.0.1 - - [03/Jun/2024 12:28:49] \"POST /_dash-update-component HTTP/1.1\" 200 -\n",
      "127.0.0.1 - - [03/Jun/2024 12:28:49] \"POST /_dash-update-component HTTP/1.1\" 200 -\n"
     ]
    },
    {
     "name": "stdout",
     "output_type": "stream",
     "text": [
      "Turkmenistan\n",
      "Turkmenistan 643.1747259925 8.3122173328 6432.6807019502 12.6990918887\n",
      "Russian Federation\n",
      "Russian Federation 1771.5940590583 10.6270979157 9313.01362485 11.7852203799\n",
      "Estonia\n",
      "Estonia 4075.9706385107 10.6362516419 17522.230186252 12.4388527657\n"
     ]
    },
    {
     "name": "stderr",
     "output_type": "stream",
     "text": [
      "127.0.0.1 - - [03/Jun/2024 12:28:49] \"POST /_dash-update-component HTTP/1.1\" 200 -\n",
      "127.0.0.1 - - [03/Jun/2024 12:28:49] \"POST /_dash-update-component HTTP/1.1\" 200 -\n",
      "127.0.0.1 - - [03/Jun/2024 12:28:49] \"POST /_dash-update-component HTTP/1.1\" 200 -\n"
     ]
    },
    {
     "name": "stdout",
     "output_type": "stream",
     "text": [
      "Libya\n",
      "Libya 7142.7744518151 8.7933136378 4337.9191391935 8.8802405304\n",
      "Slovenia\n",
      "Slovenia 10201.3035366727 7.2384036603 20881.7667686947 6.0721835533\n",
      "South Korea\n",
      "South Korea 12256.9935679503 9.5209317601 28732.2310762599 11.7093976399\n"
     ]
    },
    {
     "name": "stderr",
     "output_type": "stream",
     "text": [
      "127.0.0.1 - - [03/Jun/2024 12:28:49] \"POST /_dash-update-component HTTP/1.1\" 200 -\n"
     ]
    },
    {
     "name": "stdout",
     "output_type": "stream",
     "text": [
      "New Zealand\n",
      "New Zealand 13641.1027183822 8.5493941986 38615.9951849093 7.5914089257\n"
     ]
    },
    {
     "name": "stderr",
     "output_type": "stream",
     "text": [
      "127.0.0.1 - - [03/Jun/2024 12:28:50] \"POST /_dash-update-component HTTP/1.1\" 200 -\n",
      "127.0.0.1 - - [03/Jun/2024 12:28:50] \"POST /_dash-update-component HTTP/1.1\" 200 -\n",
      "127.0.0.1 - - [03/Jun/2024 12:28:50] \"POST /_dash-update-component HTTP/1.1\" 200 -\n",
      "127.0.0.1 - - [03/Jun/2024 12:28:50] \"POST /_dash-update-component HTTP/1.1\" 200 -\n"
     ]
    },
    {
     "name": "stdout",
     "output_type": "stream",
     "text": [
      "Slovenia\n",
      "Slovenia 10201.3035366727 7.2384036603 20881.7667686947 6.0721835533\n",
      "Slovak Republic\n",
      "Slovak Republic 5413.1506206881 6.6593294883 16309.073235592 5.7677589941\n",
      "Suriname\n",
      "Suriname 2012.2602865639 4.6640570423 8561.9741785514 3.0823778533\n",
      "Iran\n",
      "Iran 1670.0094699785 5.6723233121 4904.3268774798 8.2820751841\n"
     ]
    },
    {
     "name": "stderr",
     "output_type": "stream",
     "text": [
      "127.0.0.1 - - [03/Jun/2024 12:28:50] \"POST /_dash-update-component HTTP/1.1\" 200 -\n",
      "127.0.0.1 - - [03/Jun/2024 12:28:50] \"POST /_dash-update-component HTTP/1.1\" 200 -\n",
      "127.0.0.1 - - [03/Jun/2024 12:28:50] \"POST /_dash-update-component HTTP/1.1\" 200 -\n",
      "127.0.0.1 - - [03/Jun/2024 12:28:51] \"POST /_dash-update-component HTTP/1.1\" 200 -\n"
     ]
    },
    {
     "name": "stdout",
     "output_type": "stream",
     "text": [
      "Bulgaria\n",
      "Bulgaria 1621.2429608025 5.3280343425 7053.6037063871 6.2325795616\n",
      "Slovenia\n",
      "Slovenia 10201.3035366727 7.2384036603 20881.7667686947 6.0721835533\n",
      "Greenland\n",
      "Greenland 19004.1072910304 8.0908896797 44536.4013080999 9.0835263927\n",
      "Hong Kong\n",
      "Hong Kong 25756.6637783278 6.0674682671 42431.8882817277 5.8490543524\n"
     ]
    },
    {
     "name": "stderr",
     "output_type": "stream",
     "text": [
      "127.0.0.1 - - [03/Jun/2024 12:28:51] \"POST /_dash-update-component HTTP/1.1\" 200 -\n",
      "127.0.0.1 - - [03/Jun/2024 12:28:51] \"POST /_dash-update-component HTTP/1.1\" 200 -\n"
     ]
    },
    {
     "name": "stdout",
     "output_type": "stream",
     "text": [
      "Sweden\n",
      "Sweden 29624.9126748618 5.5624300829 51545.4836095322 3.8963240416\n",
      "Iceland\n",
      "Iceland 32018.0636814331 7.6937821162 52564.4291863302 6.0079319257\n"
     ]
    },
    {
     "name": "stderr",
     "output_type": "stream",
     "text": [
      "127.0.0.1 - - [03/Jun/2024 12:28:51] \"POST /_dash-update-component HTTP/1.1\" 200 -\n",
      "127.0.0.1 - - [03/Jun/2024 12:28:52] \"POST /_dash-update-component HTTP/1.1\" 200 -\n",
      "127.0.0.1 - - [03/Jun/2024 12:28:52] \"POST /_dash-update-component HTTP/1.1\" 200 -\n",
      "127.0.0.1 - - [03/Jun/2024 12:28:52] \"POST /_dash-update-component HTTP/1.1\" 200 -\n"
     ]
    },
    {
     "name": "stdout",
     "output_type": "stream",
     "text": [
      "Kyrgyz Republic\n",
      "Kyrgyz Republic 279.6195692609 0.9462453046 1121.0828351074 1.7538120499\n",
      "Iceland\n",
      "Iceland 32018.0636814331 7.6937821162 52564.4291863302 6.0079319257\n",
      "Algeria\n",
      "Algeria 1764.9738298279 2.8303799646 4177.8925154689 3.8545565756\n",
      "Iceland\n",
      "Iceland 32018.0636814331 7.6937821162 52564.4291863302 6.0079319257\n"
     ]
    },
    {
     "name": "stderr",
     "output_type": "stream",
     "text": [
      "127.0.0.1 - - [03/Jun/2024 12:28:52] \"POST /_dash-update-component HTTP/1.1\" 200 -\n",
      "127.0.0.1 - - [03/Jun/2024 12:28:52] \"POST /_dash-update-component HTTP/1.1\" 200 -\n",
      "127.0.0.1 - - [03/Jun/2024 12:28:52] \"POST /_dash-update-component HTTP/1.1\" 200 -\n",
      "127.0.0.1 - - [03/Jun/2024 12:28:52] \"POST /_dash-update-component HTTP/1.1\" 200 -\n"
     ]
    },
    {
     "name": "stdout",
     "output_type": "stream",
     "text": [
      "Thailand\n",
      "Thailand 2007.7351750668 2.7432901863 5840.0465229433 4.1383522179\n",
      "Iceland\n",
      "Iceland 32018.0636814331 7.6937821162 52564.4291863302 6.0079319257\n",
      "China\n",
      "China 959.3724836397 2.6968624332 8066.9424235674 7.3985245664\n",
      "Iceland\n",
      "Iceland 32018.0636814331 7.6937821162 52564.4291863302 6.0079319257\n"
     ]
    },
    {
     "name": "stderr",
     "output_type": "stream",
     "text": [
      "127.0.0.1 - - [03/Jun/2024 12:28:52] \"POST /_dash-update-component HTTP/1.1\" 200 -\n",
      "127.0.0.1 - - [03/Jun/2024 12:28:52] \"POST /_dash-update-component HTTP/1.1\" 200 -\n",
      "127.0.0.1 - - [03/Jun/2024 12:28:52] \"POST /_dash-update-component HTTP/1.1\" 200 -\n",
      "127.0.0.1 - - [03/Jun/2024 12:28:52] \"POST /_dash-update-component HTTP/1.1\" 200 -\n"
     ]
    },
    {
     "name": "stdout",
     "output_type": "stream",
     "text": [
      "Antigua and Barbuda\n",
      "Antigua and Barbuda 10920.8426880891 4.5345453589 14286.0931598293 5.8395464164\n",
      "Iceland\n",
      "Iceland 32018.0636814331 7.6937821162 52564.4291863302 6.0079319257\n",
      "Greece\n",
      "Greece 12042.9537310995 8.47843382 18167.7737169162 6.0124403896\n",
      "Iceland\n",
      "Iceland 32018.0636814331 7.6937821162 52564.4291863302 6.0079319257\n"
     ]
    },
    {
     "name": "stderr",
     "output_type": "stream",
     "text": [
      "127.0.0.1 - - [03/Jun/2024 12:28:52] \"POST /_dash-update-component HTTP/1.1\" 200 -\n",
      "127.0.0.1 - - [03/Jun/2024 12:28:52] \"POST /_dash-update-component HTTP/1.1\" 200 -\n",
      "127.0.0.1 - - [03/Jun/2024 12:28:52] \"POST /_dash-update-component HTTP/1.1\" 200 -\n"
     ]
    },
    {
     "name": "stdout",
     "output_type": "stream",
     "text": [
      "Cyprus\n",
      "Cyprus 14388.3480609917 7.3978320559 23333.7149112129 5.2873706379\n",
      "Iceland\n",
      "Iceland 32018.0636814331 7.6937821162 52564.4291863302 6.0079319257\n",
      "Bahamas\n",
      "Bahamas 27097.6108115725 6.5453362009 31405.9635601781 5.3896784124\n"
     ]
    },
    {
     "name": "stderr",
     "output_type": "stream",
     "text": [
      "127.0.0.1 - - [03/Jun/2024 12:28:52] \"POST /_dash-update-component HTTP/1.1\" 200 -\n"
     ]
    },
    {
     "name": "stdout",
     "output_type": "stream",
     "text": [
      "Iceland\n",
      "Iceland 32018.0636814331 7.6937821162 52564.4291863302 6.0079319257\n",
      "New Zealand\n",
      "New Zealand 13641.1027183822 8.5493941986 38615.9951849093 7.5914089257\n"
     ]
    },
    {
     "name": "stderr",
     "output_type": "stream",
     "text": [
      "127.0.0.1 - - [03/Jun/2024 12:28:53] \"POST /_dash-update-component HTTP/1.1\" 200 -\n",
      "127.0.0.1 - - [03/Jun/2024 12:28:53] \"POST /_dash-update-component HTTP/1.1\" 200 -\n",
      "127.0.0.1 - - [03/Jun/2024 12:28:53] \"POST /_dash-update-component HTTP/1.1\" 200 -\n"
     ]
    },
    {
     "name": "stdout",
     "output_type": "stream",
     "text": [
      "Hong Kong\n",
      "Hong Kong 25756.6637783278 6.0674682671 42431.8882817277 5.8490543524\n",
      "Iceland\n",
      "Iceland 32018.0636814331 7.6937821162 52564.4291863302 6.0079319257\n"
     ]
    },
    {
     "name": "stderr",
     "output_type": "stream",
     "text": [
      "127.0.0.1 - - [03/Jun/2024 12:28:53] \"POST /_dash-update-component HTTP/1.1\" 200 -\n"
     ]
    },
    {
     "name": "stdout",
     "output_type": "stream",
     "text": [
      "Ireland\n",
      "Ireland 26241.3646146973 10.8347426425 61995.4227789928 7.6366636275\n"
     ]
    },
    {
     "name": "stderr",
     "output_type": "stream",
     "text": [
      "127.0.0.1 - - [03/Jun/2024 12:29:42] \"POST /_dash-update-component HTTP/1.1\" 200 -\n",
      "127.0.0.1 - - [03/Jun/2024 12:29:42] \"POST /_dash-update-component HTTP/1.1\" 200 -\n"
     ]
    },
    {
     "name": "stdout",
     "output_type": "stream",
     "text": [
      "Iceland\n",
      "Iceland 32018.0636814331 7.6937821162 52564.4291863302 6.0079319257\n",
      "Algeria\n",
      "Algeria 1764.9738298279 2.8303799646 4177.8925154689 3.8545565756\n"
     ]
    },
    {
     "name": "stderr",
     "output_type": "stream",
     "text": [
      "127.0.0.1 - - [03/Jun/2024 12:29:43] \"POST /_dash-update-component HTTP/1.1\" 200 -\n",
      "127.0.0.1 - - [03/Jun/2024 12:29:43] \"POST /_dash-update-component HTTP/1.1\" 200 -\n"
     ]
    },
    {
     "name": "stdout",
     "output_type": "stream",
     "text": [
      "Iceland\n",
      "Iceland 32018.0636814331 7.6937821162 52564.4291863302 6.0079319257\n",
      "Uzbekistan\n",
      "Uzbekistan 558.226802377 4.9418159543 2615.025134487 3.2885827617\n"
     ]
    },
    {
     "name": "stderr",
     "output_type": "stream",
     "text": [
      "127.0.0.1 - - [03/Jun/2024 12:29:43] \"POST /_dash-update-component HTTP/1.1\" 200 -\n",
      "127.0.0.1 - - [03/Jun/2024 12:29:43] \"POST /_dash-update-component HTTP/1.1\" 200 -\n",
      "127.0.0.1 - - [03/Jun/2024 12:29:43] \"POST /_dash-update-component HTTP/1.1\" 200 -\n",
      "127.0.0.1 - - [03/Jun/2024 12:29:43] \"POST /_dash-update-component HTTP/1.1\" 200 -\n"
     ]
    },
    {
     "name": "stdout",
     "output_type": "stream",
     "text": [
      "Iceland\n",
      "Iceland 32018.0636814331 7.6937821162 52564.4291863302 6.0079319257\n",
      "Azerbaijan\n",
      "Azerbaijan 655.0974326026 3.6662710285 5500.3103824441 3.8964060862\n",
      "Iceland\n",
      "Iceland 32018.0636814331 7.6937821162 52564.4291863302 6.0079319257\n",
      "Lebanon\n",
      "Lebanon 4491.637258893 3.96780298 7644.5486571821 3.745767203\n"
     ]
    },
    {
     "name": "stderr",
     "output_type": "stream",
     "text": [
      "127.0.0.1 - - [03/Jun/2024 12:29:43] \"POST /_dash-update-component HTTP/1.1\" 200 -\n",
      "127.0.0.1 - - [03/Jun/2024 12:29:44] \"POST /_dash-update-component HTTP/1.1\" 200 -\n",
      "127.0.0.1 - - [03/Jun/2024 12:29:44] \"POST /_dash-update-component HTTP/1.1\" 200 -\n",
      "127.0.0.1 - - [03/Jun/2024 12:29:44] \"POST /_dash-update-component HTTP/1.1\" 200 -\n"
     ]
    },
    {
     "name": "stdout",
     "output_type": "stream",
     "text": [
      "Iceland\n",
      "Iceland 32018.0636814331 7.6937821162 52564.4291863302 6.0079319257\n",
      "Turkey\n",
      "Turkey 4316.5489067777 3.4179419975 10948.7246069027 4.4612311548\n",
      "Iceland\n",
      "Iceland 32018.0636814331 7.6937821162 52564.4291863302 6.0079319257\n",
      "Chile\n",
      "Chile 5074.9016237501 3.8335066987 13574.171830724 4.6325856585\n"
     ]
    },
    {
     "name": "stderr",
     "output_type": "stream",
     "text": [
      "127.0.0.1 - - [03/Jun/2024 12:29:44] \"POST /_dash-update-component HTTP/1.1\" 200 -\n",
      "127.0.0.1 - - [03/Jun/2024 12:29:44] \"POST /_dash-update-component HTTP/1.1\" 200 -\n",
      "127.0.0.1 - - [03/Jun/2024 12:29:44] \"POST /_dash-update-component HTTP/1.1\" 200 -\n"
     ]
    },
    {
     "name": "stdout",
     "output_type": "stream",
     "text": [
      "Iceland\n",
      "Iceland 32018.0636814331 7.6937821162 52564.4291863302 6.0079319257\n",
      "Saint Kitts and Nevis\n",
      "Saint Kitts and Nevis 9836.1955676002 3.910446068 18029.3255386512 4.5834814366\n",
      "Iceland\n",
      "Iceland 32018.0636814331 7.6937821162 52564.4291863302 6.0079319257\n"
     ]
    },
    {
     "name": "stderr",
     "output_type": "stream",
     "text": [
      "127.0.0.1 - - [03/Jun/2024 12:29:44] \"POST /_dash-update-component HTTP/1.1\" 200 -\n",
      "127.0.0.1 - - [03/Jun/2024 12:29:44] \"POST /_dash-update-component HTTP/1.1\" 200 -\n"
     ]
    },
    {
     "name": "stdout",
     "output_type": "stream",
     "text": [
      "Uruguay\n",
      "Uruguay 6875.0213275528 1.5983647495 15613.7642726429 1.9635379039\n",
      "Iceland\n",
      "Iceland 32018.0636814331 7.6937821162 52564.4291863302 6.0079319257\n"
     ]
    },
    {
     "name": "stderr",
     "output_type": "stream",
     "text": [
      "127.0.0.1 - - [03/Jun/2024 12:29:44] \"POST /_dash-update-component HTTP/1.1\" 200 -\n",
      "127.0.0.1 - - [03/Jun/2024 12:29:45] \"POST /_dash-update-component HTTP/1.1\" 200 -\n",
      "127.0.0.1 - - [03/Jun/2024 12:29:45] \"POST /_dash-update-component HTTP/1.1\" 200 -\n"
     ]
    },
    {
     "name": "stdout",
     "output_type": "stream",
     "text": [
      "Switzerland\n",
      "Switzerland 37868.3230595798 5.442630894 82081.5971239792 4.3070357901\n",
      "Iceland\n",
      "Iceland 32018.0636814331 7.6937821162 52564.4291863302 6.0079319257\n",
      "Sweden\n",
      "Sweden 29624.9126748618 5.5624300829 51545.4836095322 3.8963240416\n"
     ]
    },
    {
     "name": "stderr",
     "output_type": "stream",
     "text": [
      "127.0.0.1 - - [03/Jun/2024 12:29:45] \"POST /_dash-update-component HTTP/1.1\" 200 -\n",
      "127.0.0.1 - - [03/Jun/2024 12:29:45] \"POST /_dash-update-component HTTP/1.1\" 200 -\n"
     ]
    },
    {
     "name": "stdout",
     "output_type": "stream",
     "text": [
      "Uruguay\n",
      "Uruguay 6875.0213275528 1.5983647495 15613.7642726429 1.9635379039\n",
      "Mexico\n",
      "Mexico 7157.8144998573 4.0281446346 9605.9523510314 3.9631911282\n"
     ]
    },
    {
     "name": "stderr",
     "output_type": "stream",
     "text": [
      "127.0.0.1 - - [03/Jun/2024 12:29:45] \"POST /_dash-update-component HTTP/1.1\" 200 -\n",
      "127.0.0.1 - - [03/Jun/2024 12:29:45] \"POST /_dash-update-component HTTP/1.1\" 200 -\n",
      "127.0.0.1 - - [03/Jun/2024 12:29:45] \"POST /_dash-update-component HTTP/1.1\" 200 -\n"
     ]
    },
    {
     "name": "stdout",
     "output_type": "stream",
     "text": [
      "Argentina\n",
      "Argentina 7708.1009960541 3.854991948 13789.060424772 4.6640107479\n",
      "Slovenia\n",
      "Slovenia 10201.3035366727 7.2384036603 20881.7667686947 6.0721835533\n",
      "Cyprus\n",
      "Cyprus 14388.3480609917 7.3978320559 23333.7149112129 5.2873706379\n"
     ]
    },
    {
     "name": "stderr",
     "output_type": "stream",
     "text": [
      "127.0.0.1 - - [03/Jun/2024 12:29:45] \"POST /_dash-update-component HTTP/1.1\" 200 -\n",
      "127.0.0.1 - - [03/Jun/2024 12:29:45] \"POST /_dash-update-component HTTP/1.1\" 200 -\n",
      "127.0.0.1 - - [03/Jun/2024 12:29:45] \"POST /_dash-update-component HTTP/1.1\" 200 -\n"
     ]
    },
    {
     "name": "stdout",
     "output_type": "stream",
     "text": [
      "Greenland\n",
      "Greenland 19004.1072910304 8.0908896797 44536.4013080999 9.0835263927\n",
      "Israel\n",
      "Israel 21043.5749322433 9.5817794562 35776.7951710172 7.9005841219\n",
      "Austria\n",
      "Austria 24564.4582948404 7.7719711727 44178.0473777432 7.0885922326\n"
     ]
    },
    {
     "name": "stderr",
     "output_type": "stream",
     "text": [
      "127.0.0.1 - - [03/Jun/2024 12:29:46] \"POST /_dash-update-component HTTP/1.1\" 200 -\n",
      "127.0.0.1 - - [03/Jun/2024 12:29:46] \"POST /_dash-update-component HTTP/1.1\" 200 -\n",
      "127.0.0.1 - - [03/Jun/2024 12:29:46] \"POST /_dash-update-component HTTP/1.1\" 200 -\n",
      "127.0.0.1 - - [03/Jun/2024 12:29:46] \"POST /_dash-update-component HTTP/1.1\" 200 -\n"
     ]
    },
    {
     "name": "stdout",
     "output_type": "stream",
     "text": [
      "Hong Kong\n",
      "Hong Kong 25756.6637783278 6.0674682671 42431.8882817277 5.8490543524\n",
      "Austria\n",
      "Austria 24564.4582948404 7.7719711727 44178.0473777432 7.0885922326\n",
      "Greenland\n",
      "Greenland 19004.1072910304 8.0908896797 44536.4013080999 9.0835263927\n",
      "Cyprus\n",
      "Cyprus 14388.3480609917 7.3978320559 23333.7149112129 5.2873706379\n"
     ]
    },
    {
     "name": "stderr",
     "output_type": "stream",
     "text": [
      "127.0.0.1 - - [03/Jun/2024 12:29:46] \"POST /_dash-update-component HTTP/1.1\" 200 -\n",
      "127.0.0.1 - - [03/Jun/2024 12:29:46] \"POST /_dash-update-component HTTP/1.1\" 200 -\n"
     ]
    },
    {
     "name": "stdout",
     "output_type": "stream",
     "text": [
      "Barbados\n",
      "Barbados 11268.2540559453 4.2407896433 16525.0732500596 4.3954031207\n",
      "Spain\n",
      "Spain 14713.0657111519 7.2578243459 25732.0183647454 5.3934189492\n"
     ]
    },
    {
     "name": "stderr",
     "output_type": "stream",
     "text": [
      "127.0.0.1 - - [03/Jun/2024 12:29:46] \"POST /_dash-update-component HTTP/1.1\" 200 -\n"
     ]
    },
    {
     "name": "stdout",
     "output_type": "stream",
     "text": [
      "Iceland\n",
      "Iceland 32018.0636814331 7.6937821162 52564.4291863302 6.0079319257\n"
     ]
    }
   ],
   "source": [
    "import pandas as pd\n",
    "import json\n",
    "\n",
    "with open('../src/assets/data/countriesData.json') as data_file:    \n",
    "    data = json.load(data_file)  \n",
    "\n",
    "df_2000 = pd.json_normalize(data, '2000')\n",
    "df_2015 = pd.json_normalize(data, '2015')\n",
    "\n",
    "from jupyter_dash import JupyterDash\n",
    "import dash\n",
    "import dash_html_components as html\n",
    "import dash_core_components as dcc\n",
    "import dash._callback_context as ctx\n",
    "\n",
    "import plotly.express as px\n",
    "\n",
    "external_stylesheets=['https://codepen.io/chriddyp/pen/bWLwgP.css']\n",
    "\n",
    "app = JupyterDash(__name__, external_stylesheets=external_stylesheets)\n",
    "\n",
    "def get_scatter(df, title):\n",
    "    # TODO : Construct the scatter plot\n",
    "    return px.scatter(df,x=df.GDP,y=df.CO2, title=title, hover_name=df[\"Country Name\"])\n",
    "\n",
    "def get_range(col, df1, df2):\n",
    "    # TODO : Calculate the range\n",
    "    return [min(df1[col].min(),\n",
    "                df2[col].min()),\n",
    "            max(df1[col].max(),\n",
    "                df2[col].max())]\n",
    "\n",
    "config=dict(\n",
    "                scrollZoom=False,\n",
    "                showTips=False,\n",
    "                showAxisDragHandles=False,\n",
    "                doubleClick=False,\n",
    "                displayModeBar=False\n",
    "            )\n",
    "\n",
    "fig_2000 = get_scatter(df_2000, '2000')\n",
    "fig_2015 = get_scatter(df_2015, '2015')\n",
    "\n",
    "fig_2000.update_layout(xaxis=dict(range=get_range('GDP', df_2000, df_2015)))\n",
    "fig_2000.update_layout(yaxis=dict(range=get_range('CO2', df_2000, df_2015)))\n",
    "fig_2000.update_layout(dragmode=False)\n",
    "\n",
    "\n",
    "fig_2015.update_layout(xaxis=dict(range=get_range('GDP', df_2000, df_2015)))\n",
    "fig_2015.update_layout(yaxis=dict(range=get_range('CO2', df_2000, df_2015)))\n",
    "fig_2015.update_layout(dragmode=False)\n",
    "\n",
    "app.layout = html.Div(children=[\n",
    "        html.Div(className='row', children=[dcc.Graph(id='fig-2000', figure=fig_2000, className='six columns', config=config), dcc.Graph(id='fig-2015', figure=fig_2015, className='six columns', config=config)]),\n",
    "        html.Div(style = {'width': '100%', 'display': 'flex', 'alignItems': 'center', 'justifyContent': 'center', 'flexDirection' : 'column'}, children=[\n",
    "            html.H4('Hover over markers for more information', id='country'),\n",
    "            html.Table(children=[\n",
    "                html.Thead(html.Tr(children=[html.Th(), html.Th('GDP per capita ($ USD)'), html.Th('CO2 emissions per capita (metric tonnes)')])),\n",
    "                html.Tbody(children=[\n",
    "                    html.Tr(children=[html.Th('2000'), html.Td(id='2000-gdp'), html.Td(id='2000-co2')]),\n",
    "                    html.Tr(children=[html.Th('2015'), html.Td(id='2015-gdp'), html.Td(id='2015-co2')])\n",
    "                ])\n",
    "            ])\n",
    "        ])\n",
    "    ])\n",
    "\n",
    "from dash.dependencies import Input, Output, State\n",
    "\n",
    "@app.callback(\n",
    "    [Output('country', 'children'), Output('2000-gdp', 'children'), Output('2000-co2', 'children'), Output('2015-gdp', 'children'), Output('2015-co2', 'children')],\n",
    "    [Input('fig-2000', 'hoverData'), Input('fig-2015', 'hoverData')],\n",
    "    [State('country', 'children'), State('2000-gdp', 'children'), State('2000-co2', 'children'), State('2015-gdp', 'children'), State('2015-co2', 'children')])\n",
    "def display_selected_data(hoverData2000, hoverData2015, prevCountry, prevgdp0, prevco20, prevgdp5, prevco25):\n",
    "    # TODO : Handle the display when a point is hovered\n",
    "    country=ctx.callback_context.states['country.children']\n",
    "\n",
    "    if hoverData2000['points'][0]['hovertext']!=country:\n",
    "        country=hoverData2000['points'][0]['hovertext']\n",
    "        gdp2000=df_2000[df_2000['Country Name'] == country]['GDP'].values[0]\n",
    "        co22000=df_2000[df_2000['Country Name'] == country]['CO2'].values[0]\n",
    "        gdp2015=df_2015[df_2015['Country Name'] == country]['GDP'].values[0]\n",
    "        co22015=df_2015[df_2015['Country Name'] == country]['CO2'].values[0]\n",
    "    elif hoverData2015['points'][0]['hovertext']!=country:\n",
    "        country=hoverData2015['points'][0]['hovertext']\n",
    "        gdp2000=df_2000[df_2000['Country Name'] == country]['GDP'].values[0]\n",
    "        co22000=df_2000[df_2000['Country Name'] == country]['CO2'].values[0]\n",
    "        gdp2015=df_2015[df_2015['Country Name'] == country]['GDP'].values[0]\n",
    "        co22015=df_2015[df_2015['Country Name'] == country]['CO2'].values[0]\n",
    "    else:\n",
    "        gdp2000=ctx.callback_context.states['2000-gdp.children']\n",
    "        co22000=ctx.callback_context.states['2000-co2.children']\n",
    "        gdp2015=ctx.callback_context.states['2015-gdp.children']\n",
    "        co22015=ctx.callback_context.states['2015-co2.children']\n",
    "\n",
    "    return country, gdp2000, co22000, gdp2015, co22015\n",
    "\n",
    "# Use this cell to check your answer\n",
    "app.run_server(port=8052)"
   ]
  },
  {
   "cell_type": "markdown",
   "metadata": {},
   "source": [
    "Run these next three cells to check your answer. You should see the table get filled when you hover a point in either scatter plot."
   ]
  },
  {
   "cell_type": "code",
   "execution_count": 19,
   "metadata": {},
   "outputs": [
    {
     "name": "stderr",
     "output_type": "stream",
     "text": [
      "Address already in use\n",
      "Port 8052 is in use by another program. Either identify and stop that program, or start the server with a different port.\n"
     ]
    }
   ],
   "source": [
    "# Use this cell to check your answer\n",
    "app.run_server(port=8052)"
   ]
  },
  {
   "cell_type": "markdown",
   "metadata": {},
   "source": [
    "# Next steps\n",
    "\n",
    "After this initial exploration step, you've decided you would like to implement this data visualization as a bubble chart with an animation to transition between the two years. You also would like to change the axes display to be log-scaled. You will reuse some of this code and complete the rest of the code provided with this TP to make these changes."
   ]
  }
 ],
 "metadata": {
  "kernelspec": {
   "display_name": "venv",
   "language": "python",
   "name": "python3"
  },
  "language_info": {
   "codemirror_mode": {
    "name": "ipython",
    "version": 3
   },
   "file_extension": ".py",
   "mimetype": "text/x-python",
   "name": "python",
   "nbconvert_exporter": "python",
   "pygments_lexer": "ipython3",
   "version": "3.10.12"
  }
 },
 "nbformat": 4,
 "nbformat_minor": 4
}
